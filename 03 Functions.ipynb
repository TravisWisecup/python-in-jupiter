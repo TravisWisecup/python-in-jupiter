{
 "cells": [
  {
   "cell_type": "markdown",
   "metadata": {
    "slideshow": {
     "slide_type": "slide"
    }
   },
   "source": [
    "# Python Functions"
   ]
  },
  {
   "cell_type": "markdown",
   "metadata": {
    "slideshow": {
     "slide_type": "subslide"
    }
   },
   "source": [
    "## Functions\n",
    "\n",
    "* Starts with keyword `def`\n",
    "* Function is given a name\n",
    "* Can include zero or more parameters for passing data in\n",
    "* To invoke, use name + arguments in parenthese"
   ]
  },
  {
   "cell_type": "code",
   "execution_count": 3,
   "metadata": {},
   "outputs": [
    {
     "name": "stdout",
     "output_type": "stream",
     "text": [
      "do something a\n",
      "abc\n"
     ]
    }
   ],
   "source": [
    "def myfunc(x):\n",
    "    print('do something', x)\n",
    "    if x == 1:\n",
    "        return True\n",
    "    else:\n",
    "        return 'abc'\n",
    "    \n",
    "print(myfunc('a'))"
   ]
  },
  {
   "cell_type": "markdown",
   "metadata": {},
   "source": [
    "## Documentation strings\n",
    "\n",
    "* Often functions will include documentation strings as first statement\n",
    "* Provides info about the function's intent\n",
    "* Can be used to feed the `help()` command "
   ]
  },
  {
   "cell_type": "code",
   "execution_count": 4,
   "metadata": {},
   "outputs": [
    {
     "name": "stdout",
     "output_type": "stream",
     "text": [
      "Help on function calc_subtotal in module __main__:\n",
      "\n",
      "calc_subtotal(quantity, unit_cost)\n",
      "    Computes subtotal for an order\n",
      "\n",
      "Help on built-in function pow in module builtins:\n",
      "\n",
      "pow(base, exp, mod=None)\n",
      "    Equivalent to base**exp with 2 arguments or base**exp % mod with 3 arguments\n",
      "    \n",
      "    Some types, such as ints, are able to use a more efficient algorithm when\n",
      "    invoked using the three argument form.\n",
      "\n"
     ]
    }
   ],
   "source": [
    "def calc_subtotal(quantity, unit_cost):\n",
    "    '''\n",
    "    Computes subtotal for an order\n",
    "    '''\n",
    "    return quantity * unit_cost\n",
    "\n",
    "help(calc_subtotal)\n",
    "help(pow)"
   ]
  },
  {
   "cell_type": "markdown",
   "metadata": {},
   "source": [
    "## ...functions return __`None`__ if return not invoked"
   ]
  },
  {
   "cell_type": "code",
   "execution_count": 6,
   "metadata": {
    "scrolled": true
   },
   "outputs": [
    {
     "name": "stdout",
     "output_type": "stream",
     "text": [
      "do something 12\n",
      "return value is  None\n"
     ]
    }
   ],
   "source": [
    "def myfunc(x):\n",
    "    print('do something', x)\n",
    "\n",
    "#print(myfunc(35))\n",
    "returnvalue = myfunc(12)\n",
    "print('return value is ', returnvalue)"
   ]
  },
  {
   "cell_type": "code",
   "execution_count": null,
   "metadata": {},
   "outputs": [],
   "source": []
  },
  {
   "cell_type": "markdown",
   "metadata": {},
   "source": [
    "## What is __`None`__?\n",
    "* It acts like __`False`__, but it's a different object"
   ]
  },
  {
   "cell_type": "code",
   "execution_count": 3,
   "metadata": {},
   "outputs": [
    {
     "name": "stdout",
     "output_type": "stream",
     "text": [
      "do something 2\n",
      "False branch of if\n"
     ]
    }
   ],
   "source": [
    "def myfunc(x):\n",
    "    print('do something', x)\n",
    "\n",
    "retval = myfunc(2)\n",
    "if retval:\n",
    "    print('True branch of if')\n",
    "else:\n",
    "    print('False branch of if')"
   ]
  },
  {
   "cell_type": "code",
   "execution_count": 12,
   "metadata": {},
   "outputs": [
    {
     "name": "stdout",
     "output_type": "stream",
     "text": [
      "do something 2\n",
      "preferred over retval == None\n"
     ]
    },
    {
     "data": {
      "text/plain": [
       "(9497104, 9486304)"
      ]
     },
     "execution_count": 12,
     "metadata": {},
     "output_type": "execute_result"
    }
   ],
   "source": [
    "def myfunc(x):\n",
    "    print('do something', x)\n",
    "\n",
    "retval = myfunc(2)\n",
    "\n",
    "if retval is None:\n",
    "    print('preferred over retval == None')\n",
    "if None == False:\n",
    "    print('no!')\n",
    "id(None), id(False)"
   ]
  },
  {
   "cell_type": "markdown",
   "metadata": {
    "slideshow": {
     "slide_type": "subslide"
    }
   },
   "source": [
    "## Scope \n",
    "* Python is _NOT_ block scoped"
   ]
  },
  {
   "cell_type": "code",
   "execution_count": 15,
   "metadata": {
    "slideshow": {
     "slide_type": "subslide"
    }
   },
   "outputs": [
    {
     "name": "stdout",
     "output_type": "stream",
     "text": [
      "outside the block, x = local x inside if\n",
      "---> in func\n",
      "x = func x\n",
      "local x = func x\n",
      "global x = local x inside if\n",
      "---> leaving func\n",
      "x is now local x inside if\n",
      "in main, after func call, x = local x inside if\n",
      "---> inside second func\n",
      "x = new global x\n",
      "---> leaving second func, x = new global x\n",
      "in main, after second func call, x = new global x\n"
     ]
    }
   ],
   "source": [
    "if True:\n",
    "    x = 'global x' # x will persist outside this block\n",
    "    x = 'local x inside if'\n",
    "\n",
    "print(\"outside the block, x =\", x)\n",
    "\n",
    "def func():\n",
    "    print(\"---> in func\")\n",
    "    x = 'func x' # declare var inside function\n",
    "    print(\"x =\", x)\n",
    "    d = locals()\n",
    "    print(\"local x =\", d['x'])\n",
    "    d = globals()\n",
    "    print(\"global x =\", d['x'])\n",
    "    print(\"---> leaving func\")\n",
    "    x = \"inside func1\"\n",
    "\n",
    "func()\n",
    "\n",
    "print(\"x is now\", x)\n",
    "\n",
    "print(\"in main, after func call, x =\", x)\n",
    "\n",
    "def func():\n",
    "    print(\"---> inside second func\")\n",
    "    # can access global variables here\n",
    "    # print(\"x =\", x)\n",
    "    # ...but to change them, we need to bind\n",
    "    # the name 'x' to the global var instead\n",
    "    # of a new local var...\n",
    "    global x\n",
    "    x = 'new global x'\n",
    "    print(\"x =\", x)\n",
    "    print(\"---> leaving second func, x =\", x)\n",
    "\n",
    "func()\n",
    "print(\"in main, after second func call, x =\", x)"
   ]
  },
  {
   "cell_type": "markdown",
   "metadata": {},
   "source": [
    "## Returning values from a function\n",
    "\n",
    "* In Python, you can return multiple values from a function\n",
    "* Wrap the return values in `()` and separate each with a comma\n",
    "* Returns what's known as a `tuple` in Python"
   ]
  },
  {
   "cell_type": "code",
   "execution_count": 5,
   "metadata": {},
   "outputs": [
    {
     "name": "stdout",
     "output_type": "stream",
     "text": [
      "15.95\n",
      "36.3\n"
     ]
    }
   ],
   "source": [
    "def addmul(op1, op2):\n",
    "    return (op1 + op2, op1 * op2)\n",
    "\n",
    "sum, product = addmul(2.75, 13.2)\n",
    "print(sum)\n",
    "print(product)"
   ]
  },
  {
   "cell_type": "markdown",
   "metadata": {},
   "source": [
    "## Parameter default values\n",
    "\n",
    "* To give a parameter a default value, use assignment\n",
    "* Parameters given defaults can be omitted from calls to function\n",
    "* Omitted arguments will take on default value\n",
    "* When calling, arguments can be named - can help with readability"
   ]
  },
  {
   "cell_type": "code",
   "execution_count": 10,
   "metadata": {},
   "outputs": [
    {
     "name": "stdout",
     "output_type": "stream",
     "text": [
      "Hitting...www.python.org:80...Finish before 300 milliseconds!!\n",
      "Hitting...www.python.org:80...Finish before 500 milliseconds!!\n",
      "Hitting...www.python.org:443...Finish before 1000 milliseconds!!\n"
     ]
    }
   ],
   "source": [
    "def connect(hostname, port, timeout = 300):\n",
    "    '''\n",
    "    Simulates connectivity to a host on a port \n",
    "    '''\n",
    "    print('Hitting...', end='')\n",
    "    print(f'{hostname}:{port}...', end='')\n",
    "    print(f'Finish before {timeout} milliseconds!!')\n",
    "    return\n",
    "\n",
    "connect('www.python.org', 80)\n",
    "connect('www.python.org', 80, 500)\n",
    "connect(timeout = 1000, hostname = 'www.python.org', port = 443)  # when named, order doesn't matter\n",
    "connect(timeout = 1000, hostname = 'www.python.org', port = 443)  # when named, order doesn't matter"
   ]
  },
  {
   "cell_type": "markdown",
   "metadata": {},
   "source": [
    "## Exercise One\n",
    "\n",
    "* Update your Python program for order processing\n",
    "* Create a function to handle the calculations\n",
    "* Call the function, passing the inputs from the user\n",
    "* Fully encapsulate the discount algorithm and calculations within the function\n",
    "* Return subtotal, total including tax, and final total after discount from the function\n"
   ]
  },
  {
   "cell_type": "code",
   "execution_count": 18,
   "metadata": {},
   "outputs": [
    {
     "name": "stdout",
     "output_type": "stream",
     "text": [
      "Total (without tax): $1,000.00\n",
      "Total (with tax): $1,075.00\n",
      "Total (with tax and discount): $806.25\n"
     ]
    },
    {
     "data": {
      "text/plain": [
       "(1000.0, 1075.0, 806.25)"
      ]
     },
     "execution_count": 18,
     "metadata": {},
     "output_type": "execute_result"
    }
   ],
   "source": [
    "def calc_subtotal(quantity, cost):\n",
    "    tax_rate = 0.075\n",
    "\n",
    "\n",
    "    if(quantity > 50 and quantity < 100):\n",
    "        discount = .1\n",
    "    elif(quantity >= 100):\n",
    "        discount = .25\n",
    "    else:\n",
    "        discount = 0\n",
    "\n",
    "    total = quantity * cost\n",
    "    print(f'Total (without tax): ${total:,.2f}')\n",
    "    print(f'Total (with tax): ${total * (1 + tax_rate):,.2f}')\n",
    "    print(f'Total (with tax and discount): ${total * (1-discount) * (1 + tax_rate):,.2f}')\n",
    "\n",
    "    return(total, total * (1 + tax_rate), total * (1-discount) * (1 + tax_rate))\n",
    "\n",
    "quantity = int(input('How many are you purchasing? '))\n",
    "cost = float(input('What is the unit cost? '))\n",
    "\n",
    "calc_subtotal(quantity, cost)"
   ]
  },
  {
   "cell_type": "markdown",
   "metadata": {},
   "source": [
    "## Exercise Two\n",
    "\n",
    "* Create a function called circleinfo for calculating area and circumference of a circle\n",
    "* The function should accept a parameter for radius\n",
    "* Return area and circumference from the function\n",
    "* Area is calculated as Pi * radius * radius\n",
    "* Circumference is calculated as 2 * Pi * radius\n",
    "* **Hint**: Use math.pi to get the value for Pi in the formulae (https://www.delftstack.com/howto/python/pi-in-python/#:~:text=Use%20Pi%20in%20Python.%201%20Use%20the%20math.pi,to%20Get%20the%20Pi%20Value%20in%20Python.%20)"
   ]
  },
  {
   "cell_type": "code",
   "execution_count": 26,
   "metadata": {},
   "outputs": [
    {
     "name": "stdout",
     "output_type": "stream",
     "text": [
      "(12.566370614359172, 12.566370614359172)\n"
     ]
    }
   ],
   "source": [
    "import math\n",
    "\n",
    "def circleinfo(radius):\n",
    "    pi = math.pi\n",
    "    area = (pi *radius *radius)\n",
    "    circumference = (2 * pi*radius)\n",
    "    return(area, circumference )\n",
    "\n",
    "print(circleinfo(2))"
   ]
  }
 ],
 "metadata": {
  "celltoolbar": "Slideshow",
  "interpreter": {
   "hash": "8464311b6cd02531cc83d752491de256d0b522e7c388c7b72d58a29deff5d2dd"
  },
  "kernelspec": {
   "display_name": "Python 3 (ipykernel)",
   "language": "python",
   "name": "python3"
  },
  "language_info": {
   "codemirror_mode": {
    "name": "ipython",
    "version": 3
   },
   "file_extension": ".py",
   "mimetype": "text/x-python",
   "name": "python",
   "nbconvert_exporter": "python",
   "pygments_lexer": "ipython3",
   "version": "3.8.10"
  }
 },
 "nbformat": 4,
 "nbformat_minor": 1
}
